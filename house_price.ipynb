{
  "nbformat": 4,
  "nbformat_minor": 0,
  "metadata": {
    "colab": {
      "name": "P0.ipynb",
      "version": "0.3.2",
      "provenance": [],
      "collapsed_sections": [],
      "include_colab_link": true
    },
    "language_info": {
      "codemirror_mode": {
        "name": "ipython",
        "version": 3
      },
      "file_extension": ".py",
      "mimetype": "text/x-python",
      "name": "python",
      "nbconvert_exporter": "python",
      "pygments_lexer": "ipython3",
      "version": "3.6.5"
    },
    "kernelspec": {
      "display_name": "Python 3",
      "language": "python",
      "name": "python3"
    },
    "accelerator": "TPU"
  },
  "cells": [
    {
      "cell_type": "markdown",
      "metadata": {
        "id": "view-in-github",
        "colab_type": "text"
      },
      "source": [
        "<a href=\"https://colab.research.google.com/github/liudongliangHI/Colab/blob/master/house_price.ipynb\" target=\"_parent\"><img src=\"https://colab.research.google.com/assets/colab-badge.svg\" alt=\"Open In Colab\"/></a>"
      ]
    },
    {
      "cell_type": "code",
      "metadata": {
        "colab_type": "code",
        "id": "98LK52ToBn5U",
        "colab": {}
      },
      "source": [
        "import pandas as pd\n",
        "import seaborn as sns\n",
        "import matplotlib.pyplot as plt\n",
        "%matplotlib inline"
      ],
      "execution_count": 0,
      "outputs": []
    },
    {
      "cell_type": "markdown",
      "metadata": {
        "colab_type": "text",
        "id": "RGksvjQ1bM9A"
      },
      "source": [
        "# 载入数据集"
      ]
    },
    {
      "cell_type": "code",
      "metadata": {
        "colab_type": "code",
        "id": "4vxxzpHoBrI4",
        "colab": {}
      },
      "source": [
        "train_dataset = pd.read_csv('sample_data/california_housing_train.csv')\n",
        "test_dataset = pd.read_csv('sample_data/california_housing_test.csv')"
      ],
      "execution_count": 0,
      "outputs": []
    },
    {
      "cell_type": "markdown",
      "metadata": {
        "colab_type": "text",
        "id": "y2YcriaYM0jL"
      },
      "source": [
        "# 分析数据"
      ]
    },
    {
      "cell_type": "code",
      "metadata": {
        "colab_type": "code",
        "id": "iv_uyC6zNEGJ",
        "outputId": "5133a360-dddf-40b9-8880-f73089faf6a5",
        "colab": {
          "base_uri": "https://localhost:8080/",
          "height": 89
        }
      },
      "source": [
        " train_dataset.columns"
      ],
      "execution_count": 0,
      "outputs": [
        {
          "output_type": "execute_result",
          "data": {
            "text/plain": [
              "Index(['longitude', 'latitude', 'housing_median_age', 'total_rooms',\n",
              "       'total_bedrooms', 'population', 'households', 'median_income',\n",
              "       'median_house_value'],\n",
              "      dtype='object')"
            ]
          },
          "metadata": {
            "tags": []
          },
          "execution_count": 3
        }
      ]
    },
    {
      "cell_type": "code",
      "metadata": {
        "colab_type": "code",
        "id": "1OZ7Ke1lMZMZ",
        "outputId": "fca42a51-f1a4-4a2c-ef8d-2cc7d46015b8",
        "colab": {
          "base_uri": "https://localhost:8080/",
          "height": 297
        }
      },
      "source": [
        "train_dataset.describe()"
      ],
      "execution_count": 0,
      "outputs": [
        {
          "output_type": "execute_result",
          "data": {
            "text/html": [
              "<div>\n",
              "<style scoped>\n",
              "    .dataframe tbody tr th:only-of-type {\n",
              "        vertical-align: middle;\n",
              "    }\n",
              "\n",
              "    .dataframe tbody tr th {\n",
              "        vertical-align: top;\n",
              "    }\n",
              "\n",
              "    .dataframe thead th {\n",
              "        text-align: right;\n",
              "    }\n",
              "</style>\n",
              "<table border=\"1\" class=\"dataframe\">\n",
              "  <thead>\n",
              "    <tr style=\"text-align: right;\">\n",
              "      <th></th>\n",
              "      <th>longitude</th>\n",
              "      <th>latitude</th>\n",
              "      <th>housing_median_age</th>\n",
              "      <th>total_rooms</th>\n",
              "      <th>total_bedrooms</th>\n",
              "      <th>population</th>\n",
              "      <th>households</th>\n",
              "      <th>median_income</th>\n",
              "      <th>median_house_value</th>\n",
              "    </tr>\n",
              "  </thead>\n",
              "  <tbody>\n",
              "    <tr>\n",
              "      <th>count</th>\n",
              "      <td>17000.000000</td>\n",
              "      <td>17000.000000</td>\n",
              "      <td>17000.000000</td>\n",
              "      <td>17000.000000</td>\n",
              "      <td>17000.000000</td>\n",
              "      <td>17000.000000</td>\n",
              "      <td>17000.000000</td>\n",
              "      <td>17000.000000</td>\n",
              "      <td>17000.000000</td>\n",
              "    </tr>\n",
              "    <tr>\n",
              "      <th>mean</th>\n",
              "      <td>-119.562108</td>\n",
              "      <td>35.625225</td>\n",
              "      <td>28.589353</td>\n",
              "      <td>2643.664412</td>\n",
              "      <td>539.410824</td>\n",
              "      <td>1429.573941</td>\n",
              "      <td>501.221941</td>\n",
              "      <td>3.883578</td>\n",
              "      <td>207300.912353</td>\n",
              "    </tr>\n",
              "    <tr>\n",
              "      <th>std</th>\n",
              "      <td>2.005166</td>\n",
              "      <td>2.137340</td>\n",
              "      <td>12.586937</td>\n",
              "      <td>2179.947071</td>\n",
              "      <td>421.499452</td>\n",
              "      <td>1147.852959</td>\n",
              "      <td>384.520841</td>\n",
              "      <td>1.908157</td>\n",
              "      <td>115983.764387</td>\n",
              "    </tr>\n",
              "    <tr>\n",
              "      <th>min</th>\n",
              "      <td>-124.350000</td>\n",
              "      <td>32.540000</td>\n",
              "      <td>1.000000</td>\n",
              "      <td>2.000000</td>\n",
              "      <td>1.000000</td>\n",
              "      <td>3.000000</td>\n",
              "      <td>1.000000</td>\n",
              "      <td>0.499900</td>\n",
              "      <td>14999.000000</td>\n",
              "    </tr>\n",
              "    <tr>\n",
              "      <th>25%</th>\n",
              "      <td>-121.790000</td>\n",
              "      <td>33.930000</td>\n",
              "      <td>18.000000</td>\n",
              "      <td>1462.000000</td>\n",
              "      <td>297.000000</td>\n",
              "      <td>790.000000</td>\n",
              "      <td>282.000000</td>\n",
              "      <td>2.566375</td>\n",
              "      <td>119400.000000</td>\n",
              "    </tr>\n",
              "    <tr>\n",
              "      <th>50%</th>\n",
              "      <td>-118.490000</td>\n",
              "      <td>34.250000</td>\n",
              "      <td>29.000000</td>\n",
              "      <td>2127.000000</td>\n",
              "      <td>434.000000</td>\n",
              "      <td>1167.000000</td>\n",
              "      <td>409.000000</td>\n",
              "      <td>3.544600</td>\n",
              "      <td>180400.000000</td>\n",
              "    </tr>\n",
              "    <tr>\n",
              "      <th>75%</th>\n",
              "      <td>-118.000000</td>\n",
              "      <td>37.720000</td>\n",
              "      <td>37.000000</td>\n",
              "      <td>3151.250000</td>\n",
              "      <td>648.250000</td>\n",
              "      <td>1721.000000</td>\n",
              "      <td>605.250000</td>\n",
              "      <td>4.767000</td>\n",
              "      <td>265000.000000</td>\n",
              "    </tr>\n",
              "    <tr>\n",
              "      <th>max</th>\n",
              "      <td>-114.310000</td>\n",
              "      <td>41.950000</td>\n",
              "      <td>52.000000</td>\n",
              "      <td>37937.000000</td>\n",
              "      <td>6445.000000</td>\n",
              "      <td>35682.000000</td>\n",
              "      <td>6082.000000</td>\n",
              "      <td>15.000100</td>\n",
              "      <td>500001.000000</td>\n",
              "    </tr>\n",
              "  </tbody>\n",
              "</table>\n",
              "</div>"
            ],
            "text/plain": [
              "          longitude      latitude  housing_median_age   total_rooms  \\\n",
              "count  17000.000000  17000.000000        17000.000000  17000.000000   \n",
              "mean    -119.562108     35.625225           28.589353   2643.664412   \n",
              "std        2.005166      2.137340           12.586937   2179.947071   \n",
              "min     -124.350000     32.540000            1.000000      2.000000   \n",
              "25%     -121.790000     33.930000           18.000000   1462.000000   \n",
              "50%     -118.490000     34.250000           29.000000   2127.000000   \n",
              "75%     -118.000000     37.720000           37.000000   3151.250000   \n",
              "max     -114.310000     41.950000           52.000000  37937.000000   \n",
              "\n",
              "       total_bedrooms    population    households  median_income  \\\n",
              "count    17000.000000  17000.000000  17000.000000   17000.000000   \n",
              "mean       539.410824   1429.573941    501.221941       3.883578   \n",
              "std        421.499452   1147.852959    384.520841       1.908157   \n",
              "min          1.000000      3.000000      1.000000       0.499900   \n",
              "25%        297.000000    790.000000    282.000000       2.566375   \n",
              "50%        434.000000   1167.000000    409.000000       3.544600   \n",
              "75%        648.250000   1721.000000    605.250000       4.767000   \n",
              "max       6445.000000  35682.000000   6082.000000      15.000100   \n",
              "\n",
              "       median_house_value  \n",
              "count        17000.000000  \n",
              "mean        207300.912353  \n",
              "std         115983.764387  \n",
              "min          14999.000000  \n",
              "25%         119400.000000  \n",
              "50%         180400.000000  \n",
              "75%         265000.000000  \n",
              "max         500001.000000  "
            ]
          },
          "metadata": {
            "tags": []
          },
          "execution_count": 4
        }
      ]
    },
    {
      "cell_type": "code",
      "metadata": {
        "colab_type": "code",
        "id": "L3SGFkvYQQt3",
        "outputId": "b46a3781-88cc-4609-897b-9a82ed3c08c7",
        "colab": {
          "base_uri": "https://localhost:8080/",
          "height": 204
        }
      },
      "source": [
        "train_dataset.tail()"
      ],
      "execution_count": 0,
      "outputs": [
        {
          "output_type": "execute_result",
          "data": {
            "text/html": [
              "<div>\n",
              "<style scoped>\n",
              "    .dataframe tbody tr th:only-of-type {\n",
              "        vertical-align: middle;\n",
              "    }\n",
              "\n",
              "    .dataframe tbody tr th {\n",
              "        vertical-align: top;\n",
              "    }\n",
              "\n",
              "    .dataframe thead th {\n",
              "        text-align: right;\n",
              "    }\n",
              "</style>\n",
              "<table border=\"1\" class=\"dataframe\">\n",
              "  <thead>\n",
              "    <tr style=\"text-align: right;\">\n",
              "      <th></th>\n",
              "      <th>longitude</th>\n",
              "      <th>latitude</th>\n",
              "      <th>housing_median_age</th>\n",
              "      <th>total_rooms</th>\n",
              "      <th>total_bedrooms</th>\n",
              "      <th>population</th>\n",
              "      <th>households</th>\n",
              "      <th>median_income</th>\n",
              "      <th>median_house_value</th>\n",
              "    </tr>\n",
              "  </thead>\n",
              "  <tbody>\n",
              "    <tr>\n",
              "      <th>16995</th>\n",
              "      <td>-124.26</td>\n",
              "      <td>40.58</td>\n",
              "      <td>52.0</td>\n",
              "      <td>2217.0</td>\n",
              "      <td>394.0</td>\n",
              "      <td>907.0</td>\n",
              "      <td>369.0</td>\n",
              "      <td>2.3571</td>\n",
              "      <td>111400.0</td>\n",
              "    </tr>\n",
              "    <tr>\n",
              "      <th>16996</th>\n",
              "      <td>-124.27</td>\n",
              "      <td>40.69</td>\n",
              "      <td>36.0</td>\n",
              "      <td>2349.0</td>\n",
              "      <td>528.0</td>\n",
              "      <td>1194.0</td>\n",
              "      <td>465.0</td>\n",
              "      <td>2.5179</td>\n",
              "      <td>79000.0</td>\n",
              "    </tr>\n",
              "    <tr>\n",
              "      <th>16997</th>\n",
              "      <td>-124.30</td>\n",
              "      <td>41.84</td>\n",
              "      <td>17.0</td>\n",
              "      <td>2677.0</td>\n",
              "      <td>531.0</td>\n",
              "      <td>1244.0</td>\n",
              "      <td>456.0</td>\n",
              "      <td>3.0313</td>\n",
              "      <td>103600.0</td>\n",
              "    </tr>\n",
              "    <tr>\n",
              "      <th>16998</th>\n",
              "      <td>-124.30</td>\n",
              "      <td>41.80</td>\n",
              "      <td>19.0</td>\n",
              "      <td>2672.0</td>\n",
              "      <td>552.0</td>\n",
              "      <td>1298.0</td>\n",
              "      <td>478.0</td>\n",
              "      <td>1.9797</td>\n",
              "      <td>85800.0</td>\n",
              "    </tr>\n",
              "    <tr>\n",
              "      <th>16999</th>\n",
              "      <td>-124.35</td>\n",
              "      <td>40.54</td>\n",
              "      <td>52.0</td>\n",
              "      <td>1820.0</td>\n",
              "      <td>300.0</td>\n",
              "      <td>806.0</td>\n",
              "      <td>270.0</td>\n",
              "      <td>3.0147</td>\n",
              "      <td>94600.0</td>\n",
              "    </tr>\n",
              "  </tbody>\n",
              "</table>\n",
              "</div>"
            ],
            "text/plain": [
              "       longitude  latitude  housing_median_age  total_rooms  total_bedrooms  \\\n",
              "16995    -124.26     40.58                52.0       2217.0           394.0   \n",
              "16996    -124.27     40.69                36.0       2349.0           528.0   \n",
              "16997    -124.30     41.84                17.0       2677.0           531.0   \n",
              "16998    -124.30     41.80                19.0       2672.0           552.0   \n",
              "16999    -124.35     40.54                52.0       1820.0           300.0   \n",
              "\n",
              "       population  households  median_income  median_house_value  \n",
              "16995       907.0       369.0         2.3571            111400.0  \n",
              "16996      1194.0       465.0         2.5179             79000.0  \n",
              "16997      1244.0       456.0         3.0313            103600.0  \n",
              "16998      1298.0       478.0         1.9797             85800.0  \n",
              "16999       806.0       270.0         3.0147             94600.0  "
            ]
          },
          "metadata": {
            "tags": []
          },
          "execution_count": 5
        }
      ]
    },
    {
      "cell_type": "markdown",
      "metadata": {
        "colab_type": "text",
        "id": "FKpfD5-XfCXj"
      },
      "source": [
        "# X / Y 数据分离"
      ]
    },
    {
      "cell_type": "code",
      "metadata": {
        "colab_type": "code",
        "id": "586g8wGrPSHa",
        "colab": {}
      },
      "source": [
        "train_feature = train_dataset.drop(['median_house_value'], axis=1)\n",
        "train_label = train_dataset.median_house_value\n",
        "train_label = train_label / 10000"
      ],
      "execution_count": 0,
      "outputs": []
    },
    {
      "cell_type": "code",
      "metadata": {
        "colab_type": "code",
        "id": "X9Gqq4CWcFW9",
        "colab": {}
      },
      "source": [
        "test_feature = test_dataset.drop(['median_house_value'], axis=1)\n",
        "test_label = test_dataset.median_house_value\n",
        "test_label = test_label / 10000"
      ],
      "execution_count": 0,
      "outputs": []
    },
    {
      "cell_type": "markdown",
      "metadata": {
        "colab_type": "text",
        "id": "UE5jwC0XPfMC"
      },
      "source": [
        "# 归一化数据"
      ]
    },
    {
      "cell_type": "markdown",
      "metadata": {
        "colab_type": "text",
        "id": "uh57bZ5OUBxs"
      },
      "source": [
        ""
      ]
    },
    {
      "cell_type": "code",
      "metadata": {
        "colab_type": "code",
        "id": "UCY0hQQzVmoq",
        "outputId": "82f6c45b-7aa7-45dc-c52d-dfd327e495f2",
        "colab": {
          "base_uri": "https://localhost:8080/",
          "height": 297
        }
      },
      "source": [
        "train_stats = train_feature.describe()\n",
        "train_stats = train_stats.transpose()\n",
        "train_stats"
      ],
      "execution_count": 0,
      "outputs": [
        {
          "output_type": "execute_result",
          "data": {
            "text/html": [
              "<div>\n",
              "<style scoped>\n",
              "    .dataframe tbody tr th:only-of-type {\n",
              "        vertical-align: middle;\n",
              "    }\n",
              "\n",
              "    .dataframe tbody tr th {\n",
              "        vertical-align: top;\n",
              "    }\n",
              "\n",
              "    .dataframe thead th {\n",
              "        text-align: right;\n",
              "    }\n",
              "</style>\n",
              "<table border=\"1\" class=\"dataframe\">\n",
              "  <thead>\n",
              "    <tr style=\"text-align: right;\">\n",
              "      <th></th>\n",
              "      <th>count</th>\n",
              "      <th>mean</th>\n",
              "      <th>std</th>\n",
              "      <th>min</th>\n",
              "      <th>25%</th>\n",
              "      <th>50%</th>\n",
              "      <th>75%</th>\n",
              "      <th>max</th>\n",
              "    </tr>\n",
              "  </thead>\n",
              "  <tbody>\n",
              "    <tr>\n",
              "      <th>longitude</th>\n",
              "      <td>17000.0</td>\n",
              "      <td>-119.562108</td>\n",
              "      <td>2.005166</td>\n",
              "      <td>-124.3500</td>\n",
              "      <td>-121.790000</td>\n",
              "      <td>-118.4900</td>\n",
              "      <td>-118.000</td>\n",
              "      <td>-114.3100</td>\n",
              "    </tr>\n",
              "    <tr>\n",
              "      <th>latitude</th>\n",
              "      <td>17000.0</td>\n",
              "      <td>35.625225</td>\n",
              "      <td>2.137340</td>\n",
              "      <td>32.5400</td>\n",
              "      <td>33.930000</td>\n",
              "      <td>34.2500</td>\n",
              "      <td>37.720</td>\n",
              "      <td>41.9500</td>\n",
              "    </tr>\n",
              "    <tr>\n",
              "      <th>housing_median_age</th>\n",
              "      <td>17000.0</td>\n",
              "      <td>28.589353</td>\n",
              "      <td>12.586937</td>\n",
              "      <td>1.0000</td>\n",
              "      <td>18.000000</td>\n",
              "      <td>29.0000</td>\n",
              "      <td>37.000</td>\n",
              "      <td>52.0000</td>\n",
              "    </tr>\n",
              "    <tr>\n",
              "      <th>total_rooms</th>\n",
              "      <td>17000.0</td>\n",
              "      <td>2643.664412</td>\n",
              "      <td>2179.947071</td>\n",
              "      <td>2.0000</td>\n",
              "      <td>1462.000000</td>\n",
              "      <td>2127.0000</td>\n",
              "      <td>3151.250</td>\n",
              "      <td>37937.0000</td>\n",
              "    </tr>\n",
              "    <tr>\n",
              "      <th>total_bedrooms</th>\n",
              "      <td>17000.0</td>\n",
              "      <td>539.410824</td>\n",
              "      <td>421.499452</td>\n",
              "      <td>1.0000</td>\n",
              "      <td>297.000000</td>\n",
              "      <td>434.0000</td>\n",
              "      <td>648.250</td>\n",
              "      <td>6445.0000</td>\n",
              "    </tr>\n",
              "    <tr>\n",
              "      <th>population</th>\n",
              "      <td>17000.0</td>\n",
              "      <td>1429.573941</td>\n",
              "      <td>1147.852959</td>\n",
              "      <td>3.0000</td>\n",
              "      <td>790.000000</td>\n",
              "      <td>1167.0000</td>\n",
              "      <td>1721.000</td>\n",
              "      <td>35682.0000</td>\n",
              "    </tr>\n",
              "    <tr>\n",
              "      <th>households</th>\n",
              "      <td>17000.0</td>\n",
              "      <td>501.221941</td>\n",
              "      <td>384.520841</td>\n",
              "      <td>1.0000</td>\n",
              "      <td>282.000000</td>\n",
              "      <td>409.0000</td>\n",
              "      <td>605.250</td>\n",
              "      <td>6082.0000</td>\n",
              "    </tr>\n",
              "    <tr>\n",
              "      <th>median_income</th>\n",
              "      <td>17000.0</td>\n",
              "      <td>3.883578</td>\n",
              "      <td>1.908157</td>\n",
              "      <td>0.4999</td>\n",
              "      <td>2.566375</td>\n",
              "      <td>3.5446</td>\n",
              "      <td>4.767</td>\n",
              "      <td>15.0001</td>\n",
              "    </tr>\n",
              "  </tbody>\n",
              "</table>\n",
              "</div>"
            ],
            "text/plain": [
              "                      count         mean          std       min          25%  \\\n",
              "longitude           17000.0  -119.562108     2.005166 -124.3500  -121.790000   \n",
              "latitude            17000.0    35.625225     2.137340   32.5400    33.930000   \n",
              "housing_median_age  17000.0    28.589353    12.586937    1.0000    18.000000   \n",
              "total_rooms         17000.0  2643.664412  2179.947071    2.0000  1462.000000   \n",
              "total_bedrooms      17000.0   539.410824   421.499452    1.0000   297.000000   \n",
              "population          17000.0  1429.573941  1147.852959    3.0000   790.000000   \n",
              "households          17000.0   501.221941   384.520841    1.0000   282.000000   \n",
              "median_income       17000.0     3.883578     1.908157    0.4999     2.566375   \n",
              "\n",
              "                          50%       75%         max  \n",
              "longitude           -118.4900  -118.000   -114.3100  \n",
              "latitude              34.2500    37.720     41.9500  \n",
              "housing_median_age    29.0000    37.000     52.0000  \n",
              "total_rooms         2127.0000  3151.250  37937.0000  \n",
              "total_bedrooms       434.0000   648.250   6445.0000  \n",
              "population          1167.0000  1721.000  35682.0000  \n",
              "households           409.0000   605.250   6082.0000  \n",
              "median_income          3.5446     4.767     15.0001  "
            ]
          },
          "metadata": {
            "tags": []
          },
          "execution_count": 8
        }
      ]
    },
    {
      "cell_type": "code",
      "metadata": {
        "colab_type": "code",
        "id": "4_A-EEjJWCK-",
        "colab": {}
      },
      "source": [
        "def norm(x):\n",
        "  return (x - train_stats['mean']) / train_stats['std']"
      ],
      "execution_count": 0,
      "outputs": []
    },
    {
      "cell_type": "code",
      "metadata": {
        "colab_type": "code",
        "id": "1OthRJwBVvjn",
        "colab": {}
      },
      "source": [
        "train_feature = norm(train_feature)\n",
        "test_feature = norm(test_feature)"
      ],
      "execution_count": 0,
      "outputs": []
    },
    {
      "cell_type": "code",
      "metadata": {
        "colab_type": "code",
        "id": "mIOSD_JVPvZ7",
        "outputId": "e85d5652-59d4-48c3-9187-d9e1f75ae23e",
        "colab": {
          "base_uri": "https://localhost:8080/",
          "height": 125
        }
      },
      "source": [
        "train_label.tail()"
      ],
      "execution_count": 0,
      "outputs": [
        {
          "output_type": "execute_result",
          "data": {
            "text/plain": [
              "16995    11.14\n",
              "16996     7.90\n",
              "16997    10.36\n",
              "16998     8.58\n",
              "16999     9.46\n",
              "Name: median_house_value, dtype: float64"
            ]
          },
          "metadata": {
            "tags": []
          },
          "execution_count": 11
        }
      ]
    },
    {
      "cell_type": "code",
      "metadata": {
        "colab_type": "code",
        "id": "HswpfplXPlxK",
        "outputId": "e8a1815e-d29e-4a8a-9f23-6df937d44eee",
        "colab": {
          "base_uri": "https://localhost:8080/",
          "height": 204
        }
      },
      "source": [
        "train_feature.tail()"
      ],
      "execution_count": 0,
      "outputs": [
        {
          "output_type": "execute_result",
          "data": {
            "text/html": [
              "<div>\n",
              "<style scoped>\n",
              "    .dataframe tbody tr th:only-of-type {\n",
              "        vertical-align: middle;\n",
              "    }\n",
              "\n",
              "    .dataframe tbody tr th {\n",
              "        vertical-align: top;\n",
              "    }\n",
              "\n",
              "    .dataframe thead th {\n",
              "        text-align: right;\n",
              "    }\n",
              "</style>\n",
              "<table border=\"1\" class=\"dataframe\">\n",
              "  <thead>\n",
              "    <tr style=\"text-align: right;\">\n",
              "      <th></th>\n",
              "      <th>longitude</th>\n",
              "      <th>latitude</th>\n",
              "      <th>housing_median_age</th>\n",
              "      <th>total_rooms</th>\n",
              "      <th>total_bedrooms</th>\n",
              "      <th>population</th>\n",
              "      <th>households</th>\n",
              "      <th>median_income</th>\n",
              "    </tr>\n",
              "  </thead>\n",
              "  <tbody>\n",
              "    <tr>\n",
              "      <th>16995</th>\n",
              "      <td>-2.342894</td>\n",
              "      <td>2.318197</td>\n",
              "      <td>1.859916</td>\n",
              "      <td>-0.195722</td>\n",
              "      <td>-0.344985</td>\n",
              "      <td>-0.455262</td>\n",
              "      <td>-0.343862</td>\n",
              "      <td>-0.799975</td>\n",
              "    </tr>\n",
              "    <tr>\n",
              "      <th>16996</th>\n",
              "      <td>-2.347881</td>\n",
              "      <td>2.369663</td>\n",
              "      <td>0.588757</td>\n",
              "      <td>-0.135170</td>\n",
              "      <td>-0.027072</td>\n",
              "      <td>-0.205230</td>\n",
              "      <td>-0.094200</td>\n",
              "      <td>-0.715705</td>\n",
              "    </tr>\n",
              "    <tr>\n",
              "      <th>16997</th>\n",
              "      <td>-2.362842</td>\n",
              "      <td>2.907715</td>\n",
              "      <td>-0.920744</td>\n",
              "      <td>0.015292</td>\n",
              "      <td>-0.019955</td>\n",
              "      <td>-0.161670</td>\n",
              "      <td>-0.117606</td>\n",
              "      <td>-0.446650</td>\n",
              "    </tr>\n",
              "    <tr>\n",
              "      <th>16998</th>\n",
              "      <td>-2.362842</td>\n",
              "      <td>2.889000</td>\n",
              "      <td>-0.761850</td>\n",
              "      <td>0.012998</td>\n",
              "      <td>0.029868</td>\n",
              "      <td>-0.114626</td>\n",
              "      <td>-0.060392</td>\n",
              "      <td>-0.997758</td>\n",
              "    </tr>\n",
              "    <tr>\n",
              "      <th>16999</th>\n",
              "      <td>-2.387778</td>\n",
              "      <td>2.299482</td>\n",
              "      <td>1.859916</td>\n",
              "      <td>-0.377837</td>\n",
              "      <td>-0.567998</td>\n",
              "      <td>-0.543252</td>\n",
              "      <td>-0.601325</td>\n",
              "      <td>-0.455349</td>\n",
              "    </tr>\n",
              "  </tbody>\n",
              "</table>\n",
              "</div>"
            ],
            "text/plain": [
              "       longitude  latitude  housing_median_age  total_rooms  total_bedrooms  \\\n",
              "16995  -2.342894  2.318197            1.859916    -0.195722       -0.344985   \n",
              "16996  -2.347881  2.369663            0.588757    -0.135170       -0.027072   \n",
              "16997  -2.362842  2.907715           -0.920744     0.015292       -0.019955   \n",
              "16998  -2.362842  2.889000           -0.761850     0.012998        0.029868   \n",
              "16999  -2.387778  2.299482            1.859916    -0.377837       -0.567998   \n",
              "\n",
              "       population  households  median_income  \n",
              "16995   -0.455262   -0.343862      -0.799975  \n",
              "16996   -0.205230   -0.094200      -0.715705  \n",
              "16997   -0.161670   -0.117606      -0.446650  \n",
              "16998   -0.114626   -0.060392      -0.997758  \n",
              "16999   -0.543252   -0.601325      -0.455349  "
            ]
          },
          "metadata": {
            "tags": []
          },
          "execution_count": 12
        }
      ]
    },
    {
      "cell_type": "markdown",
      "metadata": {
        "colab_type": "text",
        "id": "VMgZ-vt9RMCd"
      },
      "source": [
        "# 构建模型"
      ]
    },
    {
      "cell_type": "markdown",
      "metadata": {
        "id": "YLXTPfpG2fWJ",
        "colab_type": "text"
      },
      "source": [
        "模型非常的简单但有效，采用三层全连接网络"
      ]
    },
    {
      "cell_type": "markdown",
      "metadata": {
        "id": "z90UbPF62fWM",
        "colab_type": "text"
      },
      "source": [
        "## 代码实现"
      ]
    },
    {
      "cell_type": "code",
      "metadata": {
        "colab_type": "code",
        "id": "9BhRJczCRVgD",
        "colab": {},
        "outputId": "b6a39ae3-58c3-44f4-d5f7-e3dff95f2206"
      },
      "source": [
        "import tensorflow as tf\n",
        "from tensorflow import keras\n",
        "from tensorflow.keras import layers"
      ],
      "execution_count": 0,
      "outputs": [
        {
          "output_type": "stream",
          "text": [
            "/anaconda3/lib/python3.6/site-packages/h5py/__init__.py:36: FutureWarning: Conversion of the second argument of issubdtype from `float` to `np.floating` is deprecated. In future, it will be treated as `np.float64 == np.dtype(float).type`.\n",
            "  from ._conv import register_converters as _register_converters\n"
          ],
          "name": "stderr"
        }
      ]
    },
    {
      "cell_type": "code",
      "metadata": {
        "colab_type": "code",
        "id": "WvsyeDrrRP94",
        "colab": {}
      },
      "source": [
        "model = keras.Sequential([\n",
        "    layers.Dense(64, activation=tf.nn.relu, input_shape=[len(train_feature.keys())]),\n",
        "    layers.Dense(64, activation=tf.nn.relu),\n",
        "    layers.Dense(1)\n",
        "])\n",
        "\n",
        "optimizer = tf.keras.optimizers.RMSprop()\n",
        "\n",
        "model.compile(loss='mean_squared_error',\n",
        "              optimizer=optimizer,\n",
        "              metrics=['mean_absolute_error', 'mean_squared_error'])"
      ],
      "execution_count": 0,
      "outputs": []
    },
    {
      "cell_type": "markdown",
      "metadata": {
        "colab_type": "text",
        "id": "vH_W5-4gR14R"
      },
      "source": [
        "检查模型结构"
      ]
    },
    {
      "cell_type": "code",
      "metadata": {
        "colab_type": "code",
        "id": "bMbh4QsxR0_x",
        "outputId": "70d25590-b4a5-4be9-9f5a-39e064a9408e",
        "colab": {
          "base_uri": "https://localhost:8080/",
          "height": 251
        }
      },
      "source": [
        "model.summary()"
      ],
      "execution_count": 0,
      "outputs": [
        {
          "output_type": "stream",
          "text": [
            "_________________________________________________________________\n",
            "Layer (type)                 Output Shape              Param #   \n",
            "=================================================================\n",
            "dense (Dense)                (None, 64)                576       \n",
            "_________________________________________________________________\n",
            "dense_1 (Dense)              (None, 64)                4160      \n",
            "_________________________________________________________________\n",
            "dense_2 (Dense)              (None, 1)                 65        \n",
            "=================================================================\n",
            "Total params: 4,801\n",
            "Trainable params: 4,801\n",
            "Non-trainable params: 0\n",
            "_________________________________________________________________\n"
          ],
          "name": "stdout"
        }
      ]
    },
    {
      "cell_type": "markdown",
      "metadata": {
        "colab_type": "text",
        "id": "k5YOTibkSHS9"
      },
      "source": [
        "# 训练模型"
      ]
    },
    {
      "cell_type": "code",
      "metadata": {
        "colab_type": "code",
        "id": "MP0oJNRcSMjf",
        "colab": {}
      },
      "source": [
        "EPOCHS = 1000"
      ],
      "execution_count": 0,
      "outputs": []
    },
    {
      "cell_type": "code",
      "metadata": {
        "colab_type": "code",
        "id": "Obf8oLMjZMPm",
        "colab": {}
      },
      "source": [
        "class PrintDot(keras.callbacks.Callback):\n",
        "  def on_epoch_end(self, epoch, logs):\n",
        "    if epoch % 100 == 0: print('')\n",
        "    print('.', end='')"
      ],
      "execution_count": 0,
      "outputs": []
    },
    {
      "cell_type": "code",
      "metadata": {
        "colab_type": "code",
        "id": "SE-SxocsSFcy",
        "outputId": "a05760ba-2924-4cb2-c6ee-b921f3d15233",
        "colab": {
          "base_uri": "https://localhost:8080/",
          "height": 289
        }
      },
      "source": [
        "history = model.fit(\n",
        "    train_feature, train_label,\n",
        "    epochs=EPOCHS, batch_size=10240,\n",
        "    validation_split=0.1,\n",
        "    verbose=0,\n",
        "    callbacks=[PrintDot()]\n",
        ")"
      ],
      "execution_count": 0,
      "outputs": [
        {
          "output_type": "stream",
          "text": [
            "\n",
            "....................................................................................................\n",
            "....................................................................................................\n",
            "....................................................................................................\n",
            "....................................................................................................\n",
            "....................................................................................................\n",
            "....................................................................................................\n",
            "....................................................................................................\n",
            "....................................................................................................\n",
            "....................................................................................................\n",
            "...................................................................................................."
          ],
          "name": "stdout"
        }
      ]
    },
    {
      "cell_type": "code",
      "metadata": {
        "colab_type": "code",
        "id": "Ci5OI0-OTCAK",
        "colab": {}
      },
      "source": [
        "hist = pd.DataFrame(history.history)\n",
        "hist['epoch'] = history.epoch"
      ],
      "execution_count": 0,
      "outputs": []
    },
    {
      "cell_type": "code",
      "metadata": {
        "colab_type": "code",
        "id": "vsNAgtpUkEMw",
        "outputId": "0f8c94c5-db4a-4042-e8e8-07a850f5bc41",
        "colab": {
          "base_uri": "https://localhost:8080/",
          "height": 204
        }
      },
      "source": [
        "hist.head()"
      ],
      "execution_count": 0,
      "outputs": [
        {
          "output_type": "execute_result",
          "data": {
            "text/html": [
              "<div>\n",
              "<style scoped>\n",
              "    .dataframe tbody tr th:only-of-type {\n",
              "        vertical-align: middle;\n",
              "    }\n",
              "\n",
              "    .dataframe tbody tr th {\n",
              "        vertical-align: top;\n",
              "    }\n",
              "\n",
              "    .dataframe thead th {\n",
              "        text-align: right;\n",
              "    }\n",
              "</style>\n",
              "<table border=\"1\" class=\"dataframe\">\n",
              "  <thead>\n",
              "    <tr style=\"text-align: right;\">\n",
              "      <th></th>\n",
              "      <th>val_loss</th>\n",
              "      <th>val_mean_absolute_error</th>\n",
              "      <th>val_mean_squared_error</th>\n",
              "      <th>loss</th>\n",
              "      <th>mean_absolute_error</th>\n",
              "      <th>mean_squared_error</th>\n",
              "      <th>epoch</th>\n",
              "    </tr>\n",
              "  </thead>\n",
              "  <tbody>\n",
              "    <tr>\n",
              "      <th>0</th>\n",
              "      <td>754.436768</td>\n",
              "      <td>24.077389</td>\n",
              "      <td>754.436768</td>\n",
              "      <td>546.714689</td>\n",
              "      <td>20.424079</td>\n",
              "      <td>546.714689</td>\n",
              "      <td>0</td>\n",
              "    </tr>\n",
              "    <tr>\n",
              "      <th>1</th>\n",
              "      <td>741.109131</td>\n",
              "      <td>23.795401</td>\n",
              "      <td>741.109131</td>\n",
              "      <td>530.547606</td>\n",
              "      <td>20.025834</td>\n",
              "      <td>530.547606</td>\n",
              "      <td>1</td>\n",
              "    </tr>\n",
              "    <tr>\n",
              "      <th>2</th>\n",
              "      <td>729.814331</td>\n",
              "      <td>23.550991</td>\n",
              "      <td>729.814331</td>\n",
              "      <td>519.339332</td>\n",
              "      <td>19.741432</td>\n",
              "      <td>519.339332</td>\n",
              "      <td>2</td>\n",
              "    </tr>\n",
              "    <tr>\n",
              "      <th>3</th>\n",
              "      <td>719.294434</td>\n",
              "      <td>23.320097</td>\n",
              "      <td>719.294434</td>\n",
              "      <td>509.446311</td>\n",
              "      <td>19.485505</td>\n",
              "      <td>509.446311</td>\n",
              "      <td>3</td>\n",
              "    </tr>\n",
              "    <tr>\n",
              "      <th>4</th>\n",
              "      <td>709.056763</td>\n",
              "      <td>23.093204</td>\n",
              "      <td>709.056763</td>\n",
              "      <td>500.034135</td>\n",
              "      <td>19.240042</td>\n",
              "      <td>500.034135</td>\n",
              "      <td>4</td>\n",
              "    </tr>\n",
              "  </tbody>\n",
              "</table>\n",
              "</div>"
            ],
            "text/plain": [
              "     val_loss  val_mean_absolute_error  val_mean_squared_error        loss  \\\n",
              "0  754.436768                24.077389              754.436768  546.714689   \n",
              "1  741.109131                23.795401              741.109131  530.547606   \n",
              "2  729.814331                23.550991              729.814331  519.339332   \n",
              "3  719.294434                23.320097              719.294434  509.446311   \n",
              "4  709.056763                23.093204              709.056763  500.034135   \n",
              "\n",
              "   mean_absolute_error  mean_squared_error  epoch  \n",
              "0            20.424079          546.714689      0  \n",
              "1            20.025834          530.547606      1  \n",
              "2            19.741432          519.339332      2  \n",
              "3            19.485505          509.446311      3  \n",
              "4            19.240042          500.034135      4  "
            ]
          },
          "metadata": {
            "tags": []
          },
          "execution_count": 20
        }
      ]
    },
    {
      "cell_type": "code",
      "metadata": {
        "colab_type": "code",
        "id": "I52LXRRYkUCt",
        "outputId": "9aed9169-f3f1-47b7-b7c3-6491dba57113",
        "colab": {
          "base_uri": "https://localhost:8080/",
          "height": 204
        }
      },
      "source": [
        "hist.tail()"
      ],
      "execution_count": 0,
      "outputs": [
        {
          "output_type": "execute_result",
          "data": {
            "text/html": [
              "<div>\n",
              "<style scoped>\n",
              "    .dataframe tbody tr th:only-of-type {\n",
              "        vertical-align: middle;\n",
              "    }\n",
              "\n",
              "    .dataframe tbody tr th {\n",
              "        vertical-align: top;\n",
              "    }\n",
              "\n",
              "    .dataframe thead th {\n",
              "        text-align: right;\n",
              "    }\n",
              "</style>\n",
              "<table border=\"1\" class=\"dataframe\">\n",
              "  <thead>\n",
              "    <tr style=\"text-align: right;\">\n",
              "      <th></th>\n",
              "      <th>val_loss</th>\n",
              "      <th>val_mean_absolute_error</th>\n",
              "      <th>val_mean_squared_error</th>\n",
              "      <th>loss</th>\n",
              "      <th>mean_absolute_error</th>\n",
              "      <th>mean_squared_error</th>\n",
              "      <th>epoch</th>\n",
              "    </tr>\n",
              "  </thead>\n",
              "  <tbody>\n",
              "    <tr>\n",
              "      <th>995</th>\n",
              "      <td>55.930019</td>\n",
              "      <td>5.451097</td>\n",
              "      <td>55.930019</td>\n",
              "      <td>27.900315</td>\n",
              "      <td>3.660041</td>\n",
              "      <td>27.900315</td>\n",
              "      <td>995</td>\n",
              "    </tr>\n",
              "    <tr>\n",
              "      <th>996</th>\n",
              "      <td>57.698418</td>\n",
              "      <td>5.527229</td>\n",
              "      <td>57.698418</td>\n",
              "      <td>27.946161</td>\n",
              "      <td>3.670970</td>\n",
              "      <td>27.946161</td>\n",
              "      <td>996</td>\n",
              "    </tr>\n",
              "    <tr>\n",
              "      <th>997</th>\n",
              "      <td>58.626324</td>\n",
              "      <td>5.521572</td>\n",
              "      <td>58.626324</td>\n",
              "      <td>27.866115</td>\n",
              "      <td>3.654474</td>\n",
              "      <td>27.866115</td>\n",
              "      <td>997</td>\n",
              "    </tr>\n",
              "    <tr>\n",
              "      <th>998</th>\n",
              "      <td>56.286121</td>\n",
              "      <td>5.491154</td>\n",
              "      <td>56.286121</td>\n",
              "      <td>28.063493</td>\n",
              "      <td>3.669041</td>\n",
              "      <td>28.063493</td>\n",
              "      <td>998</td>\n",
              "    </tr>\n",
              "    <tr>\n",
              "      <th>999</th>\n",
              "      <td>56.889656</td>\n",
              "      <td>5.480361</td>\n",
              "      <td>56.889656</td>\n",
              "      <td>28.180393</td>\n",
              "      <td>3.708848</td>\n",
              "      <td>28.180393</td>\n",
              "      <td>999</td>\n",
              "    </tr>\n",
              "  </tbody>\n",
              "</table>\n",
              "</div>"
            ],
            "text/plain": [
              "      val_loss  val_mean_absolute_error  val_mean_squared_error       loss  \\\n",
              "995  55.930019                 5.451097               55.930019  27.900315   \n",
              "996  57.698418                 5.527229               57.698418  27.946161   \n",
              "997  58.626324                 5.521572               58.626324  27.866115   \n",
              "998  56.286121                 5.491154               56.286121  28.063493   \n",
              "999  56.889656                 5.480361               56.889656  28.180393   \n",
              "\n",
              "     mean_absolute_error  mean_squared_error  epoch  \n",
              "995             3.660041           27.900315    995  \n",
              "996             3.670970           27.946161    996  \n",
              "997             3.654474           27.866115    997  \n",
              "998             3.669041           28.063493    998  \n",
              "999             3.708848           28.180393    999  "
            ]
          },
          "metadata": {
            "tags": []
          },
          "execution_count": 21
        }
      ]
    },
    {
      "cell_type": "code",
      "metadata": {
        "colab_type": "code",
        "id": "1EQ_UxUOXkma",
        "outputId": "b93c550e-57a1-42d2-9365-0b96e347b76e",
        "colab": {
          "base_uri": "https://localhost:8080/",
          "height": 297
        }
      },
      "source": [
        "hist.describe()"
      ],
      "execution_count": 0,
      "outputs": [
        {
          "output_type": "execute_result",
          "data": {
            "text/html": [
              "<div>\n",
              "<style scoped>\n",
              "    .dataframe tbody tr th:only-of-type {\n",
              "        vertical-align: middle;\n",
              "    }\n",
              "\n",
              "    .dataframe tbody tr th {\n",
              "        vertical-align: top;\n",
              "    }\n",
              "\n",
              "    .dataframe thead th {\n",
              "        text-align: right;\n",
              "    }\n",
              "</style>\n",
              "<table border=\"1\" class=\"dataframe\">\n",
              "  <thead>\n",
              "    <tr style=\"text-align: right;\">\n",
              "      <th></th>\n",
              "      <th>val_loss</th>\n",
              "      <th>val_mean_absolute_error</th>\n",
              "      <th>val_mean_squared_error</th>\n",
              "      <th>loss</th>\n",
              "      <th>mean_absolute_error</th>\n",
              "      <th>mean_squared_error</th>\n",
              "      <th>epoch</th>\n",
              "    </tr>\n",
              "  </thead>\n",
              "  <tbody>\n",
              "    <tr>\n",
              "      <th>count</th>\n",
              "      <td>1000.000000</td>\n",
              "      <td>1000.000000</td>\n",
              "      <td>1000.000000</td>\n",
              "      <td>1000.000000</td>\n",
              "      <td>1000.000000</td>\n",
              "      <td>1000.000000</td>\n",
              "      <td>1000.000000</td>\n",
              "    </tr>\n",
              "    <tr>\n",
              "      <th>mean</th>\n",
              "      <td>87.455214</td>\n",
              "      <td>6.659679</td>\n",
              "      <td>87.455214</td>\n",
              "      <td>46.861697</td>\n",
              "      <td>4.506191</td>\n",
              "      <td>46.861697</td>\n",
              "      <td>499.500000</td>\n",
              "    </tr>\n",
              "    <tr>\n",
              "      <th>std</th>\n",
              "      <td>100.071273</td>\n",
              "      <td>2.861676</td>\n",
              "      <td>100.071273</td>\n",
              "      <td>65.964133</td>\n",
              "      <td>2.296143</td>\n",
              "      <td>65.964133</td>\n",
              "      <td>288.819436</td>\n",
              "    </tr>\n",
              "    <tr>\n",
              "      <th>min</th>\n",
              "      <td>55.930019</td>\n",
              "      <td>5.451097</td>\n",
              "      <td>55.930019</td>\n",
              "      <td>27.693417</td>\n",
              "      <td>3.625447</td>\n",
              "      <td>27.693417</td>\n",
              "      <td>0.000000</td>\n",
              "    </tr>\n",
              "    <tr>\n",
              "      <th>25%</th>\n",
              "      <td>59.625796</td>\n",
              "      <td>5.687455</td>\n",
              "      <td>59.625796</td>\n",
              "      <td>29.058886</td>\n",
              "      <td>3.762369</td>\n",
              "      <td>29.058886</td>\n",
              "      <td>249.750000</td>\n",
              "    </tr>\n",
              "    <tr>\n",
              "      <th>50%</th>\n",
              "      <td>61.891815</td>\n",
              "      <td>5.903722</td>\n",
              "      <td>61.891815</td>\n",
              "      <td>30.757025</td>\n",
              "      <td>3.873562</td>\n",
              "      <td>30.757025</td>\n",
              "      <td>499.500000</td>\n",
              "    </tr>\n",
              "    <tr>\n",
              "      <th>75%</th>\n",
              "      <td>64.061554</td>\n",
              "      <td>5.979964</td>\n",
              "      <td>64.061554</td>\n",
              "      <td>34.381897</td>\n",
              "      <td>4.133148</td>\n",
              "      <td>34.381897</td>\n",
              "      <td>749.250000</td>\n",
              "    </tr>\n",
              "    <tr>\n",
              "      <th>max</th>\n",
              "      <td>754.436768</td>\n",
              "      <td>24.077389</td>\n",
              "      <td>754.436768</td>\n",
              "      <td>546.714689</td>\n",
              "      <td>20.424079</td>\n",
              "      <td>546.714689</td>\n",
              "      <td>999.000000</td>\n",
              "    </tr>\n",
              "  </tbody>\n",
              "</table>\n",
              "</div>"
            ],
            "text/plain": [
              "          val_loss  val_mean_absolute_error  val_mean_squared_error  \\\n",
              "count  1000.000000              1000.000000             1000.000000   \n",
              "mean     87.455214                 6.659679               87.455214   \n",
              "std     100.071273                 2.861676              100.071273   \n",
              "min      55.930019                 5.451097               55.930019   \n",
              "25%      59.625796                 5.687455               59.625796   \n",
              "50%      61.891815                 5.903722               61.891815   \n",
              "75%      64.061554                 5.979964               64.061554   \n",
              "max     754.436768                24.077389              754.436768   \n",
              "\n",
              "              loss  mean_absolute_error  mean_squared_error        epoch  \n",
              "count  1000.000000          1000.000000         1000.000000  1000.000000  \n",
              "mean     46.861697             4.506191           46.861697   499.500000  \n",
              "std      65.964133             2.296143           65.964133   288.819436  \n",
              "min      27.693417             3.625447           27.693417     0.000000  \n",
              "25%      29.058886             3.762369           29.058886   249.750000  \n",
              "50%      30.757025             3.873562           30.757025   499.500000  \n",
              "75%      34.381897             4.133148           34.381897   749.250000  \n",
              "max     546.714689            20.424079          546.714689   999.000000  "
            ]
          },
          "metadata": {
            "tags": []
          },
          "execution_count": 22
        }
      ]
    },
    {
      "cell_type": "code",
      "metadata": {
        "colab_type": "code",
        "id": "e5GQ_DCqTTHG",
        "outputId": "a5ded77d-70bd-420e-edcc-8d3d268e9f1b",
        "colab": {
          "base_uri": "https://localhost:8080/",
          "height": 549
        }
      },
      "source": [
        "def plot_history(history):\n",
        "  hist = pd.DataFrame(history.history)\n",
        "  hist['epoch'] = history.epoch\n",
        "  \n",
        "  plt.figure()\n",
        "  plt.xlabel('Epoch')\n",
        "  plt.ylabel('Mean Abs Error [$10K]')\n",
        "  plt.plot(hist['epoch'], hist['mean_absolute_error'],\n",
        "           label='Train Error')\n",
        "  plt.plot(hist['epoch'], hist['val_mean_absolute_error'],\n",
        "           label = 'Val Error')\n",
        "  plt.ylim([0, 20])\n",
        "  plt.legend()\n",
        "  \n",
        "  plt.figure()\n",
        "  plt.xlabel('Epoch')\n",
        "  plt.ylabel('Mean Square Error [$\\$10k^2$]')\n",
        "  plt.plot(hist['epoch'], hist['mean_squared_error'],\n",
        "           label='Train Error')\n",
        "  plt.plot(hist['epoch'], hist['val_mean_squared_error'],\n",
        "           label = 'Val Error')\n",
        "  plt.ylim([0, 500])\n",
        "  plt.legend()\n",
        "  plt.show()\n",
        "\n",
        "\n",
        "plot_history(history)"
      ],
      "execution_count": 0,
      "outputs": [
        {
          "output_type": "display_data",
          "data": {
            "image/png": "[encoded data removed]",
            "text/plain": [
              "<Figure size 432x288 with 1 Axes>"
            ]
          },
          "metadata": {
            "tags": []
          }
        },
        {
          "output_type": "display_data",
          "data": {
            "image/png": "[encoded data removed]",
            "text/plain": [
              "<Figure size 432x288 with 1 Axes>"
            ]
          },
          "metadata": {
            "tags": []
          }
        }
      ]
    },
    {
      "cell_type": "markdown",
      "metadata": {
        "colab_type": "text",
        "id": "pbmGO0lFbziK"
      },
      "source": [
        "# 预测"
      ]
    },
    {
      "cell_type": "code",
      "metadata": {
        "colab_type": "code",
        "id": "RFd2hfTibyM5",
        "outputId": "9c9ed3b5-ac41-4f7f-9ac5-47d178c7e5f4",
        "colab": {
          "base_uri": "https://localhost:8080/",
          "height": 283
        }
      },
      "source": [
        "test_predictions = model.predict(test_feature).flatten()\n",
        "\n",
        "plt.scatter(test_label, test_predictions)\n",
        "plt.xlabel('True Values [$10K]')\n",
        "plt.ylabel('Predictions [$10K]')\n",
        "plt.axis('equal')\n",
        "plt.axis('square')\n",
        "plt.xlim([0,plt.xlim()[1]])\n",
        "plt.ylim([0,plt.ylim()[1]])\n",
        "_ = plt.plot([-100, 100], [-100, 100])"
      ],
      "execution_count": 0,
      "outputs": [
        {
          "output_type": "display_data",
          "data": {
            "image/png": "[encoded data removed]",
            "text/plain": [
              "<Figure size 432x288 with 1 Axes>"
            ]
          },
          "metadata": {
            "tags": []
          }
        }
      ]
    }
  ]
}